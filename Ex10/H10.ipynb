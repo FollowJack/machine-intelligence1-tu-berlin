{
 "cells": [
  {
   "cell_type": "code",
   "execution_count": 1,
   "metadata": {
    "collapsed": true
   },
   "outputs": [],
   "source": [
    "import numpy as np\n",
    "import matplotlib.pyplot as plt\n",
    "%matplotlib inline"
   ]
  },
  {
   "cell_type": "code",
   "execution_count": 11,
   "metadata": {
    "collapsed": true
   },
   "outputs": [],
   "source": [
    "import pomegranate as pg"
   ]
  },
  {
   "cell_type": "markdown",
   "metadata": {},
   "source": [
    "## H10.2"
   ]
  },
  {
   "cell_type": "code",
   "execution_count": 12,
   "metadata": {
    "collapsed": false
   },
   "outputs": [],
   "source": [
    "cloudy = pg.DiscreteDistribution( {'F': 0.5, 'T': 0.5} )\n",
    "sprinkler = pg.ConditionalProbabilityTable(\n",
    "    [['F', 'F', 0.5],\n",
    "     ['F', 'T', 0.5],\n",
    "     ['T', 'F', 0.9],\n",
    "     ['T', 'T', 0.1]], [cloudy])\n",
    "rain = pg.ConditionalProbabilityTable(\n",
    "    [['F', 'F', 0.8],\n",
    "     ['F', 'T', 0.2],\n",
    "     ['T', 'F', 0.2],\n",
    "     ['T', 'T', 0.8]], [cloudy])\n",
    "wet_grass = pg.ConditionalProbabilityTable(\n",
    "    [['F', 'F', 'F', 1.0],\n",
    "     ['F', 'F', 'T', 0.0],\n",
    "     ['T', 'F', 'F', 0.1],\n",
    "     ['T', 'F', 'T', 0.9],\n",
    "     ['F', 'T', 'F', 0.1],\n",
    "     ['F', 'T', 'T', 0.9],\n",
    "     ['T', 'T', 'F', 0.01],\n",
    "     ['T', 'T', 'T', 0.99]], [sprinkler, rain])"
   ]
  },
  {
   "cell_type": "code",
   "execution_count": 13,
   "metadata": {
    "collapsed": false
   },
   "outputs": [],
   "source": [
    "state_cloudy = pg.State(cloudy, name='Cloudy')\n",
    "state_sprinkler = pg.State(sprinkler, name='Sprinkler')\n",
    "state_rain = pg.State(rain, name='Rain')\n",
    "state_wet_grass = pg.State(wet_grass, name='Wet Grass')"
   ]
  },
  {
   "cell_type": "code",
   "execution_count": 15,
   "metadata": {
    "collapsed": false
   },
   "outputs": [],
   "source": [
    "network = pg.BayesianNetwork()\n",
    "network.add_states(state_cloudy, state_sprinkler, state_rain, state_wet_grass)\n",
    "network.add_edge(state_cloudy, state_sprinkler)\n",
    "network.add_edge(state_cloudy, state_rain)\n",
    "network.add_edge(state_sprinkler, state_wet_grass)\n",
    "network.add_edge(state_rain, state_wet_grass)\n",
    "network.bake()"
   ]
  },
  {
   "cell_type": "code",
   "execution_count": 31,
   "metadata": {
    "collapsed": false
   },
   "outputs": [
    {
     "name": "stdout",
     "output_type": "stream",
     "text": [
      "Probabilities for...\n",
      "Cloudy: [{'T': 0.6035588437850328, 'F': 0.3964411562149671}]\n",
      "Sprinkler: [{'T': 0.4040418053001052, 'F': 0.5959581946998947}]\n",
      "Rain: [{'T': 0.7840742595572503, 'F': 0.21592574044274965}]\n",
      "Wet Grass: [{'T': 1.0, 'F': 0.0}]\n"
     ]
    }
   ],
   "source": [
    "observations = {'Wet Grass': 'T'}\n",
    "\n",
    "beliefs = network.predict_proba(observations)\n",
    "print 'Probabilities for...'\n",
    "for state, belief in zip(network.states, beliefs):\n",
    "    print '{}: {}'.format(state.name, belief.parameters)"
   ]
  },
  {
   "cell_type": "markdown",
   "metadata": {},
   "source": [
    "The probability that the sprinkler was active after observing that the grass is wet is 0.40."
   ]
  },
  {
   "cell_type": "code",
   "execution_count": 32,
   "metadata": {
    "collapsed": false
   },
   "outputs": [
    {
     "name": "stdout",
     "output_type": "stream",
     "text": [
      "Probabilities for...\n",
      "Cloudy: [{'T': 0.7937131630648331, 'F': 0.20628683693516692}]\n",
      "Sprinkler: [{'T': 0.1944990176817289, 'F': 0.8055009823182712}]\n",
      "Rain: [{'T': 1.0, 'F': 0.0}]\n",
      "Wet Grass: [{'T': 1.0, 'F': 0.0}]\n"
     ]
    }
   ],
   "source": [
    "observations = {'Wet Grass': 'T', 'Rain': 'T'}\n",
    "\n",
    "beliefs = network.predict_proba(observations)\n",
    "print 'Probabilities for...'\n",
    "for state, belief in zip(network.states, beliefs):\n",
    "    print '{}: {}'.format(state.name, belief.parameters)"
   ]
  },
  {
   "cell_type": "markdown",
   "metadata": {},
   "source": [
    "With the additional observation of rain, the probability decreases to 0.19."
   ]
  },
  {
   "cell_type": "markdown",
   "metadata": {},
   "source": [
    "## H10.3"
   ]
  },
  {
   "cell_type": "code",
   "execution_count": 34,
   "metadata": {
    "collapsed": true
   },
   "outputs": [],
   "source": [
    "burglary = pg.DiscreteDistribution( {'F': 0.99, 'T': 0.01} )\n",
    "earthquake = pg.DiscreteDistribution( {'F': 1.-1e-6, 'T': 1e-6} )\n",
    "radio = pg.ConditionalProbabilityTable(\n",
    "    [['F', 'F', 1.],\n",
    "     ['F', 'T', 0.],\n",
    "     ['T', 'F', 0.],\n",
    "     ['T', 'T', 1.]], [earthquake])\n",
    "alarm = pg.ConditionalProbabilityTable(\n",
    "    [['F', 'F', 'F', 0.999],\n",
    "     ['F', 'F', 'T', 0.001],\n",
    "     ['F', 'T', 'F', 0.59],\n",
    "     ['F', 'T', 'T', 0.41],\n",
    "     ['T', 'F', 'F', 0.05],\n",
    "     ['T', 'F', 'T', 0.95],     \n",
    "     ['T', 'T', 'F', 0.02],\n",
    "     ['T', 'T', 'T', 0.98]], [burglary, earthquake])"
   ]
  },
  {
   "cell_type": "code",
   "execution_count": 35,
   "metadata": {
    "collapsed": true
   },
   "outputs": [],
   "source": [
    "state_burglary = pg.State(burglary, name='Burglary')\n",
    "state_earthquake = pg.State(earthquake, name='Earthquake')\n",
    "state_radio = pg.State(radio, name='Radio')\n",
    "state_alarm = pg.State(alarm, name='Alarm')"
   ]
  },
  {
   "cell_type": "code",
   "execution_count": 36,
   "metadata": {
    "collapsed": true
   },
   "outputs": [],
   "source": [
    "network = pg.BayesianNetwork()\n",
    "network.add_states(state_burglary, state_earthquake, state_radio, state_alarm)\n",
    "network.add_edge(state_burglary, state_alarm)\n",
    "network.add_edge(state_earthquake, state_alarm)\n",
    "network.add_edge(state_earthquake, state_radio)\n",
    "network.bake()"
   ]
  },
  {
   "cell_type": "code",
   "execution_count": 37,
   "metadata": {
    "collapsed": false
   },
   "outputs": [
    {
     "name": "stdout",
     "output_type": "stream",
     "text": [
      "Probabilities for...\n",
      "Burglary: [{'T': 0.010000000000000002, 'F': 0.99}]\n",
      "Earthquake: [{'T': 1.0000000000000004e-06, 'F': 0.999999}]\n",
      "Radio: [{'T': 1.0000000000000004e-06, 'F': 0.999999}]\n",
      "Alarm: [{'T': 0.01049040521, 'F': 0.98950959479}]\n"
     ]
    }
   ],
   "source": [
    "observations = {}\n",
    "\n",
    "beliefs = network.predict_proba(observations)\n",
    "print 'Probabilities for...'\n",
    "for state, belief in zip(network.states, beliefs):\n",
    "    print '{}: {}'.format(state.name, belief.parameters)"
   ]
  },
  {
   "cell_type": "markdown",
   "metadata": {},
   "source": [
    "P(A=t) = 0.01"
   ]
  },
  {
   "cell_type": "code",
   "execution_count": 38,
   "metadata": {
    "collapsed": false
   },
   "outputs": [
    {
     "name": "stdout",
     "output_type": "stream",
     "text": [
      "Probabilities for...\n",
      "Burglary: [{'T': 0.010000000000000004, 'F': 0.99}]\n",
      "Earthquake: [{'T': 1.0, 'F': 0.0}]\n",
      "Radio: [{'T': 1.0, 'F': 0.0}]\n",
      "Alarm: [{'T': 0.4156999999999999, 'F': 0.5843}]\n"
     ]
    }
   ],
   "source": [
    "observations = {'Radio': 'T'}\n",
    "\n",
    "beliefs = network.predict_proba(observations)\n",
    "print 'Probabilities for...'\n",
    "for state, belief in zip(network.states, beliefs):\n",
    "    print '{}: {}'.format(state.name, belief.parameters)"
   ]
  },
  {
   "cell_type": "markdown",
   "metadata": {},
   "source": [
    "P(A=t|R=t) = 0.42"
   ]
  },
  {
   "cell_type": "code",
   "execution_count": 39,
   "metadata": {
    "collapsed": false
   },
   "outputs": [
    {
     "name": "stdout",
     "output_type": "stream",
     "text": [
      "Probabilities for...\n",
      "Burglary: [{'T': 0.9055894514869746, 'F': 0.09441054851302548}]\n",
      "Earthquake: [{'T': 3.962668664159258e-05, 'F': 0.9999603733133584}]\n",
      "Radio: [{'T': 3.962668664159258e-05, 'F': 0.9999603733133584}]\n",
      "Alarm: [{'T': 1.0, 'F': 0.0}]\n"
     ]
    }
   ],
   "source": [
    "observations = {'Alarm': 'T'}\n",
    "\n",
    "beliefs = network.predict_proba(observations)\n",
    "print 'Probabilities for...'\n",
    "for state, belief in zip(network.states, beliefs):\n",
    "    print '{}: {}'.format(state.name, belief.parameters)"
   ]
  },
  {
   "cell_type": "markdown",
   "metadata": {},
   "source": [
    "P(B=t|A=t) = 0.91"
   ]
  },
  {
   "cell_type": "code",
   "execution_count": 41,
   "metadata": {
    "collapsed": false
   },
   "outputs": [
    {
     "name": "stdout",
     "output_type": "stream",
     "text": [
      "Probabilities for...\n",
      "Burglary: [{'T': 0.02357469328842916, 'F': 0.9764253067115708}]\n",
      "Earthquake: [{'T': 1.0, 'F': 0.0}]\n",
      "Radio: [{'T': 1.0, 'F': 0.0}]\n",
      "Alarm: [{'T': 1.0, 'F': 0.0}]\n"
     ]
    }
   ],
   "source": [
    "observations = {'Alarm': 'T', 'Radio': 'T'}\n",
    "\n",
    "beliefs = network.predict_proba(observations)\n",
    "print 'Probabilities for...'\n",
    "for state, belief in zip(network.states, beliefs):\n",
    "    print '{}: {}'.format(state.name, belief.parameters)"
   ]
  },
  {
   "cell_type": "markdown",
   "metadata": {},
   "source": [
    "P(B=t|A=t, R=t) = 0.024"
   ]
  },
  {
   "cell_type": "code",
   "execution_count": null,
   "metadata": {
    "collapsed": true
   },
   "outputs": [],
   "source": []
  }
 ],
 "metadata": {
  "anaconda-cloud": {},
  "kernelspec": {
   "display_name": "Python [conda root]",
   "language": "python",
   "name": "conda-root-py"
  },
  "language_info": {
   "codemirror_mode": {
    "name": "ipython",
    "version": 2
   },
   "file_extension": ".py",
   "mimetype": "text/x-python",
   "name": "python",
   "nbconvert_exporter": "python",
   "pygments_lexer": "ipython2",
   "version": "2.7.12"
  }
 },
 "nbformat": 4,
 "nbformat_minor": 1
}
