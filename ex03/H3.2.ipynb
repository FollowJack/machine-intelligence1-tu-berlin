{
 "cells": [
  {
   "cell_type": "code",
   "execution_count": 72,
   "metadata": {
    "collapsed": true
   },
   "outputs": [],
   "source": [
    "import numpy as np\n",
    "import matplotlib.pyplot as plt\n",
    "%matplotlib inline"
   ]
  },
  {
   "cell_type": "code",
   "execution_count": 95,
   "metadata": {
    "collapsed": false
   },
   "outputs": [
    {
     "data": {
      "text/plain": [
       "<matplotlib.text.Text at 0xce29da0>"
      ]
     },
     "execution_count": 95,
     "metadata": {},
     "output_type": "execute_result"
    },
    {
     "data": {
      "image/png": "[encoded data removed]",
      "text/plain": [
       "<matplotlib.figure.Figure at 0xca22a20>"
      ]
     },
     "metadata": {},
     "output_type": "display_data"
    }
   ],
   "source": [
    "_ = np.linspace(0, 1)\n",
    "plt.plot(_, np.sin(2. * np.pi * _))\n",
    "x, t = np.loadtxt('RegressionData.txt', unpack=True)\n",
    "plt.plot(x, t, 'bo')\n",
    "plt.xlabel('x')\n",
    "plt.ylabel('t')"
   ]
  },
  {
   "cell_type": "code",
   "execution_count": 74,
   "metadata": {
    "collapsed": false
   },
   "outputs": [],
   "source": [
    "# Initialize weights and biases.\n",
    "b1 = np.random.rand(3, 1) - 0.5\n",
    "b2 = np.random.rand(1, 1) - 0.5\n",
    "W1 = np.random.rand(3, 1) - 0.5\n",
    "W2 = np.random.rand(1, 3) - 0.5"
   ]
  },
  {
   "cell_type": "code",
   "execution_count": 75,
   "metadata": {
    "collapsed": false
   },
   "outputs": [
    {
     "data": {
      "text/plain": [
       "array([[ 0.32108026, -0.46934701,  0.15158772]])"
      ]
     },
     "execution_count": 75,
     "metadata": {},
     "output_type": "execute_result"
    }
   ],
   "source": [
    "W2"
   ]
  },
  {
   "cell_type": "code",
   "execution_count": 76,
   "metadata": {
    "collapsed": false
   },
   "outputs": [
    {
     "data": {
      "text/plain": [
       "(array([[ 0.43162783]]), -0.58940000000000003)"
      ]
     },
     "execution_count": 76,
     "metadata": {},
     "output_type": "execute_result"
    }
   ],
   "source": [
    "a0 = x[0]\n",
    "y_true = t[0]\n",
    "\n",
    "z1 = np.dot(W1, a0) + b1\n",
    "a1 = np.tanh(z1)\n",
    "z2 = np.dot(W2, a1) + b2\n",
    "a2 = z2  # linear\n",
    "a2, y_true"
   ]
  },
  {
   "cell_type": "code",
   "execution_count": 77,
   "metadata": {
    "collapsed": false
   },
   "outputs": [
    {
     "data": {
      "text/plain": [
       "1.0424978388583561"
      ]
     },
     "execution_count": 77,
     "metadata": {},
     "output_type": "execute_result"
    }
   ],
   "source": [
    "cost = np.mean((a2 - y_true)**2)\n",
    "cost"
   ]
  },
  {
   "cell_type": "code",
   "execution_count": 78,
   "metadata": {
    "collapsed": false
   },
   "outputs": [],
   "source": [
    "delta2 = 2. * a2 * 1.  # gradient of C wrt a2 * derivative of lin at z2\n",
    "delta1 = np.dot(W2.T, delta2) * (1. - np.tanh(z1)**2)  # (W2^T dot delta2) * derivative of tanh at z1"
   ]
  },
  {
   "cell_type": "code",
   "execution_count": 79,
   "metadata": {
    "collapsed": false
   },
   "outputs": [],
   "source": [
    "dW2 = np.dot(delta2, a1.T)\n",
    "dW1 = np.dot(delta1, a0.T)"
   ]
  },
  {
   "cell_type": "code",
   "execution_count": 82,
   "metadata": {
    "collapsed": false
   },
   "outputs": [
    {
     "data": {
      "text/plain": [
       "array([[ 0.11969639],\n",
       "       [-0.19486064],\n",
       "       [ 0.06989259]])"
      ]
     },
     "execution_count": 82,
     "metadata": {},
     "output_type": "execute_result"
    }
   ],
   "source": [
    "dW1"
   ]
  },
  {
   "cell_type": "code",
   "execution_count": 80,
   "metadata": {
    "collapsed": true
   },
   "outputs": [],
   "source": [
    "learning_rate = 0.5\n",
    "W1 -= learning_rate * dW1\n",
    "W2 -= learning_rate * dW2"
   ]
  },
  {
   "cell_type": "code",
   "execution_count": 33,
   "metadata": {
    "collapsed": false
   },
   "outputs": [],
   "source": [
    "learning_rate = 0.005\n",
    "cost_history = []\n",
    "\n",
    "for epoch in range(5000):\n",
    "\n",
    "    # List of gradients for each epoch.\n",
    "    dW2 = []\n",
    "    dW1 = []\n",
    "    \n",
    "    cost_epoch = []\n",
    "\n",
    "    for a0, y_true in zip(x, t):\n",
    "\n",
    "        # Forward pass (zx are summed inputs plus bias for layer x; a are outputs of layer x).\n",
    "        z1 = np.dot(W1, a0) + b1\n",
    "        a1 = np.tanh(z1)  # tanh layer\n",
    "        z2 = np.dot(W2, a1) + b2\n",
    "        a2 = z2  # linear layer\n",
    "\n",
    "        cost = np.mean((a2 - y_true)**2)\n",
    "        cost_epoch.append(cost)\n",
    "\n",
    "        # Local errors.\n",
    "        delta2 = 2. * a2 * 1.  # gradient of C wrt a2 * derivative of lin at z2\n",
    "        delta1 = np.dot(W2.T, delta2) * (1. - np.tanh(z1)**2)  # (W2^T dot delta2) * derivative of tanh at z1\n",
    "\n",
    "        # Gradients dC/dW.\n",
    "        dW2.append(np.dot(delta2, a1.T))\n",
    "        dW1.append(np.dot(delta1, a0.T))\n",
    "\n",
    "    # Update step.\n",
    "    #print W1.shape, (learning_rate * np.mean(dW1, axis=0)).shape\n",
    "    W1 -= learning_rate * np.mean(dW1, axis=0)\n",
    "    W2 -= learning_rate * np.mean(dW2, axis=0)\n",
    "    cost_history.append(np.mean(cost_epoch))"
   ]
  },
  {
   "cell_type": "code",
   "execution_count": 34,
   "metadata": {
    "collapsed": false
   },
   "outputs": [
    {
     "data": {
      "text/plain": [
       "[<matplotlib.lines.Line2D at 0x856c588>]"
      ]
     },
     "execution_count": 34,
     "metadata": {},
     "output_type": "execute_result"
    },
    {
     "data": {
      "image/png": "[encoded data removed]",
      "text/plain": [
       "<matplotlib.figure.Figure at 0x822e358>"
      ]
     },
     "metadata": {},
     "output_type": "display_data"
    }
   ],
   "source": [
    "plt.plot(cost_history)"
   ]
  },
  {
   "cell_type": "code",
   "execution_count": 35,
   "metadata": {
    "collapsed": false
   },
   "outputs": [
    {
     "data": {
      "text/plain": [
       "[<matplotlib.lines.Line2D at 0x95f3b38>]"
      ]
     },
     "execution_count": 35,
     "metadata": {},
     "output_type": "execute_result"
    },
    {
     "data": {
      "image/png": "[encoded data removed]",
      "text/plain": [
       "<matplotlib.figure.Figure at 0x94489e8>"
      ]
     },
     "metadata": {},
     "output_type": "display_data"
    }
   ],
   "source": [
    "_ = np.linspace(0, 1)\n",
    "plt.plot(_, np.sin(2. * np.pi * _))\n",
    "\n",
    "# Forward pass (zx are summed inputs with bias for layer x, a are outputs of layer x).\n",
    "y = []\n",
    "for a0 in _:\n",
    "    z1 = np.dot(W1, a0) + b1\n",
    "    a1 = np.tanh(z1)\n",
    "    z2 = np.dot(W2, a1) + b2\n",
    "    a2 = z2  # linear\n",
    "    y.append(a2[0][0])\n",
    "plt.plot(_, y)"
   ]
  },
  {
   "cell_type": "markdown",
   "metadata": {
    "collapsed": true
   },
   "source": [
    "### Implementation of the same network in keras"
   ]
  },
  {
   "cell_type": "code",
   "execution_count": 162,
   "metadata": {
    "collapsed": true
   },
   "outputs": [],
   "source": [
    "from keras.models import Sequential\n",
    "from keras.layers import Dense\n",
    "model = Sequential([\n",
    "        Dense(3, input_dim=1, activation='tanh'),\n",
    "        Dense(1, activation='linear')\n",
    "    ])"
   ]
  },
  {
   "cell_type": "code",
   "execution_count": 163,
   "metadata": {
    "collapsed": true
   },
   "outputs": [],
   "source": [
    "from keras.optimizers import SGD\n",
    "model.compile(SGD(0.5), 'mse')"
   ]
  },
  {
   "cell_type": "code",
   "execution_count": 164,
   "metadata": {
    "collapsed": false
   },
   "outputs": [
    {
     "name": "stdout",
     "output_type": "stream",
     "text": [
      "Epoch 1/300\n",
      "10/10 [==============================] - 0s - loss: 0.5041\n",
      "Epoch 2/300\n",
      "10/10 [==============================] - 0s - loss: 0.4584\n",
      "Epoch 3/300\n",
      "10/10 [==============================] - 0s - loss: 0.4213\n",
      "Epoch 4/300\n",
      "10/10 [==============================] - 0s - loss: 0.3894\n",
      "Epoch 5/300\n",
      "10/10 [==============================] - 0s - loss: 0.3621\n",
      "Epoch 6/300\n",
      "10/10 [==============================] - 0s - loss: 0.3373\n",
      "Epoch 7/300\n",
      "10/10 [==============================] - 0s - loss: 0.3187\n",
      "Epoch 8/300\n",
      "10/10 [==============================] - 0s - loss: 0.3046\n",
      "Epoch 9/300\n",
      "10/10 [==============================] - 0s - loss: 0.3048\n",
      "Epoch 10/300\n",
      "10/10 [==============================] - 0s - loss: 0.3179\n",
      "Epoch 11/300\n",
      "10/10 [==============================] - 0s - loss: 0.3690\n",
      "Epoch 12/300\n",
      "10/10 [==============================] - 0s - loss: 0.4390\n",
      "Epoch 13/300\n",
      "10/10 [==============================] - 0s - loss: 0.5521\n",
      "Epoch 14/300\n",
      "10/10 [==============================] - 0s - loss: 0.5289\n",
      "Epoch 15/300\n",
      "10/10 [==============================] - 0s - loss: 0.4839\n",
      "Epoch 16/300\n",
      "10/10 [==============================] - 0s - loss: 0.3269\n",
      "Epoch 17/300\n",
      "10/10 [==============================] - 0s - loss: 0.2748\n",
      "Epoch 18/300\n",
      "10/10 [==============================] - 0s - loss: 0.2361\n",
      "Epoch 19/300\n",
      "10/10 [==============================] - 0s - loss: 0.2198\n",
      "Epoch 20/300\n",
      "10/10 [==============================] - 0s - loss: 0.2086\n",
      "Epoch 21/300\n",
      "10/10 [==============================] - 0s - loss: 0.2038\n",
      "Epoch 22/300\n",
      "10/10 [==============================] - 0s - loss: 0.2017\n",
      "Epoch 23/300\n",
      "10/10 [==============================] - 0s - loss: 0.2043\n",
      "Epoch 24/300\n",
      "10/10 [==============================] - 0s - loss: 0.2101\n",
      "Epoch 25/300\n",
      "10/10 [==============================] - 0s - loss: 0.2229\n",
      "Epoch 26/300\n",
      "10/10 [==============================] - 0s - loss: 0.2408\n",
      "Epoch 27/300\n",
      "10/10 [==============================] - 0s - loss: 0.2701\n",
      "Epoch 28/300\n",
      "10/10 [==============================] - 0s - loss: 0.2981\n",
      "Epoch 29/300\n",
      "10/10 [==============================] - 0s - loss: 0.3317\n",
      "Epoch 30/300\n",
      "10/10 [==============================] - 0s - loss: 0.3316\n",
      "Epoch 31/300\n",
      "10/10 [==============================] - 0s - loss: 0.3280\n",
      "Epoch 32/300\n",
      "10/10 [==============================] - 0s - loss: 0.2869\n",
      "Epoch 33/300\n",
      "10/10 [==============================] - 0s - loss: 0.2638\n",
      "Epoch 34/300\n",
      "10/10 [==============================] - 0s - loss: 0.2346\n",
      "Epoch 35/300\n",
      "10/10 [==============================] - 0s - loss: 0.2211\n",
      "Epoch 36/300\n",
      "10/10 [==============================] - 0s - loss: 0.2086\n",
      "Epoch 37/300\n",
      "10/10 [==============================] - 0s - loss: 0.2030\n",
      "Epoch 38/300\n",
      "10/10 [==============================] - 0s - loss: 0.1979\n",
      "Epoch 39/300\n",
      "10/10 [==============================] - 0s - loss: 0.1958\n",
      "Epoch 40/300\n",
      "10/10 [==============================] - 0s - loss: 0.1938\n",
      "Epoch 41/300\n",
      "10/10 [==============================] - 0s - loss: 0.1934\n",
      "Epoch 42/300\n",
      "10/10 [==============================] - 0s - loss: 0.1926\n",
      "Epoch 43/300\n",
      "10/10 [==============================] - 0s - loss: 0.1929\n",
      "Epoch 44/300\n",
      "10/10 [==============================] - 0s - loss: 0.1926\n",
      "Epoch 45/300\n",
      "10/10 [==============================] - 0s - loss: 0.1931\n",
      "Epoch 46/300\n",
      "10/10 [==============================] - 0s - loss: 0.1928\n",
      "Epoch 47/300\n",
      "10/10 [==============================] - 0s - loss: 0.1931\n",
      "Epoch 48/300\n",
      "10/10 [==============================] - 0s - loss: 0.1925\n",
      "Epoch 49/300\n",
      "10/10 [==============================] - 0s - loss: 0.1924\n",
      "Epoch 50/300\n",
      "10/10 [==============================] - 0s - loss: 0.1914\n",
      "Epoch 51/300\n",
      "10/10 [==============================] - 0s - loss: 0.1909\n",
      "Epoch 52/300\n",
      "10/10 [==============================] - 0s - loss: 0.1895\n",
      "Epoch 53/300\n",
      "10/10 [==============================] - 0s - loss: 0.1886\n",
      "Epoch 54/300\n",
      "10/10 [==============================] - 0s - loss: 0.1871\n",
      "Epoch 55/300\n",
      "10/10 [==============================] - 0s - loss: 0.1860\n",
      "Epoch 56/300\n",
      "10/10 [==============================] - 0s - loss: 0.1844\n",
      "Epoch 57/300\n",
      "10/10 [==============================] - 0s - loss: 0.1832\n",
      "Epoch 58/300\n",
      "10/10 [==============================] - 0s - loss: 0.1817\n",
      "Epoch 59/300\n",
      "10/10 [==============================] - 0s - loss: 0.1805\n",
      "Epoch 60/300\n",
      "10/10 [==============================] - 0s - loss: 0.1792\n",
      "Epoch 61/300\n",
      "10/10 [==============================] - 0s - loss: 0.1781\n",
      "Epoch 62/300\n",
      "10/10 [==============================] - 0s - loss: 0.1769\n",
      "Epoch 63/300\n",
      "10/10 [==============================] - 0s - loss: 0.1759\n",
      "Epoch 64/300\n",
      "10/10 [==============================] - 0s - loss: 0.1749\n",
      "Epoch 65/300\n",
      "10/10 [==============================] - 0s - loss: 0.1740\n",
      "Epoch 66/300\n",
      "10/10 [==============================] - 0s - loss: 0.1731\n",
      "Epoch 67/300\n",
      "10/10 [==============================] - 0s - loss: 0.1724\n",
      "Epoch 68/300\n",
      "10/10 [==============================] - 0s - loss: 0.1716\n",
      "Epoch 69/300\n",
      "10/10 [==============================] - 0s - loss: 0.1709\n",
      "Epoch 70/300\n",
      "10/10 [==============================] - 0s - loss: 0.1703\n",
      "Epoch 71/300\n",
      "10/10 [==============================] - 0s - loss: 0.1697\n",
      "Epoch 72/300\n",
      "10/10 [==============================] - 0s - loss: 0.1692\n",
      "Epoch 73/300\n",
      "10/10 [==============================] - 0s - loss: 0.1687\n",
      "Epoch 74/300\n",
      "10/10 [==============================] - 0s - loss: 0.1683\n",
      "Epoch 75/300\n",
      "10/10 [==============================] - 0s - loss: 0.1679\n",
      "Epoch 76/300\n",
      "10/10 [==============================] - 0s - loss: 0.1675\n",
      "Epoch 77/300\n",
      "10/10 [==============================] - 0s - loss: 0.1671\n",
      "Epoch 78/300\n",
      "10/10 [==============================] - 0s - loss: 0.1668\n",
      "Epoch 79/300\n",
      "10/10 [==============================] - 0s - loss: 0.1665\n",
      "Epoch 80/300\n",
      "10/10 [==============================] - 0s - loss: 0.1662\n",
      "Epoch 81/300\n",
      "10/10 [==============================] - 0s - loss: 0.1659\n",
      "Epoch 82/300\n",
      "10/10 [==============================] - 0s - loss: 0.1657\n",
      "Epoch 83/300\n",
      "10/10 [==============================] - 0s - loss: 0.1654\n",
      "Epoch 84/300\n",
      "10/10 [==============================] - 0s - loss: 0.1652\n",
      "Epoch 85/300\n",
      "10/10 [==============================] - 0s - loss: 0.1650\n",
      "Epoch 86/300\n",
      "10/10 [==============================] - 0s - loss: 0.1648\n",
      "Epoch 87/300\n",
      "10/10 [==============================] - 0s - loss: 0.1646\n",
      "Epoch 88/300\n",
      "10/10 [==============================] - 0s - loss: 0.1644\n",
      "Epoch 89/300\n",
      "10/10 [==============================] - 0s - loss: 0.1642\n",
      "Epoch 90/300\n",
      "10/10 [==============================] - 0s - loss: 0.1640\n",
      "Epoch 91/300\n",
      "10/10 [==============================] - 0s - loss: 0.1638\n",
      "Epoch 92/300\n",
      "10/10 [==============================] - 0s - loss: 0.1636\n",
      "Epoch 93/300\n",
      "10/10 [==============================] - 0s - loss: 0.1634\n",
      "Epoch 94/300\n",
      "10/10 [==============================] - 0s - loss: 0.1633\n",
      "Epoch 95/300\n",
      "10/10 [==============================] - 0s - loss: 0.1631\n",
      "Epoch 96/300\n",
      "10/10 [==============================] - 0s - loss: 0.1629\n",
      "Epoch 97/300\n",
      "10/10 [==============================] - 0s - loss: 0.1627\n",
      "Epoch 98/300\n",
      "10/10 [==============================] - 0s - loss: 0.1625\n",
      "Epoch 99/300\n",
      "10/10 [==============================] - 0s - loss: 0.1623\n",
      "Epoch 100/300\n",
      "10/10 [==============================] - 0s - loss: 0.1621\n",
      "Epoch 101/300\n",
      "10/10 [==============================] - 0s - loss: 0.1620\n",
      "Epoch 102/300\n",
      "10/10 [==============================] - 0s - loss: 0.1618\n",
      "Epoch 103/300\n",
      "10/10 [==============================] - 0s - loss: 0.1616\n",
      "Epoch 104/300\n",
      "10/10 [==============================] - 0s - loss: 0.1614\n",
      "Epoch 105/300\n",
      "10/10 [==============================] - 0s - loss: 0.1612\n",
      "Epoch 106/300\n",
      "10/10 [==============================] - 0s - loss: 0.1610\n",
      "Epoch 107/300\n",
      "10/10 [==============================] - 0s - loss: 0.1608\n",
      "Epoch 108/300\n",
      "10/10 [==============================] - 0s - loss: 0.1606\n",
      "Epoch 109/300\n",
      "10/10 [==============================] - 0s - loss: 0.1604\n",
      "Epoch 110/300\n",
      "10/10 [==============================] - 0s - loss: 0.1602\n",
      "Epoch 111/300\n",
      "10/10 [==============================] - 0s - loss: 0.1600\n",
      "Epoch 112/300\n",
      "10/10 [==============================] - 0s - loss: 0.1598\n",
      "Epoch 113/300\n",
      "10/10 [==============================] - 0s - loss: 0.1596\n",
      "Epoch 114/300\n",
      "10/10 [==============================] - 0s - loss: 0.1594\n",
      "Epoch 115/300\n",
      "10/10 [==============================] - 0s - loss: 0.1592\n",
      "Epoch 116/300\n",
      "10/10 [==============================] - 0s - loss: 0.1590\n",
      "Epoch 117/300\n",
      "10/10 [==============================] - 0s - loss: 0.1587\n",
      "Epoch 118/300\n",
      "10/10 [==============================] - 0s - loss: 0.1585\n",
      "Epoch 119/300\n",
      "10/10 [==============================] - 0s - loss: 0.1583\n",
      "Epoch 120/300\n",
      "10/10 [==============================] - 0s - loss: 0.1581\n",
      "Epoch 121/300\n",
      "10/10 [==============================] - 0s - loss: 0.1579\n",
      "Epoch 122/300\n",
      "10/10 [==============================] - 0s - loss: 0.1577\n",
      "Epoch 123/300\n",
      "10/10 [==============================] - 0s - loss: 0.1575\n",
      "Epoch 124/300\n",
      "10/10 [==============================] - 0s - loss: 0.1572\n",
      "Epoch 125/300\n",
      "10/10 [==============================] - 0s - loss: 0.1570\n",
      "Epoch 126/300\n",
      "10/10 [==============================] - 0s - loss: 0.1568\n",
      "Epoch 127/300\n",
      "10/10 [==============================] - 0s - loss: 0.1566\n",
      "Epoch 128/300\n",
      "10/10 [==============================] - 0s - loss: 0.1563\n",
      "Epoch 129/300\n",
      "10/10 [==============================] - 0s - loss: 0.1561\n",
      "Epoch 130/300\n",
      "10/10 [==============================] - 0s - loss: 0.1559\n",
      "Epoch 131/300\n",
      "10/10 [==============================] - 0s - loss: 0.1556\n",
      "Epoch 132/300\n",
      "10/10 [==============================] - 0s - loss: 0.1554\n",
      "Epoch 133/300\n",
      "10/10 [==============================] - 0s - loss: 0.1552\n",
      "Epoch 134/300\n",
      "10/10 [==============================] - 0s - loss: 0.1549\n",
      "Epoch 135/300\n",
      "10/10 [==============================] - 0s - loss: 0.1547\n",
      "Epoch 136/300\n",
      "10/10 [==============================] - 0s - loss: 0.1545\n",
      "Epoch 137/300\n",
      "10/10 [==============================] - 0s - loss: 0.1542\n",
      "Epoch 138/300\n",
      "10/10 [==============================] - 0s - loss: 0.1540\n",
      "Epoch 139/300\n",
      "10/10 [==============================] - 0s - loss: 0.1537\n",
      "Epoch 140/300\n",
      "10/10 [==============================] - 0s - loss: 0.1535\n",
      "Epoch 141/300\n",
      "10/10 [==============================] - 0s - loss: 0.1532\n",
      "Epoch 142/300\n",
      "10/10 [==============================] - 0s - loss: 0.1530\n",
      "Epoch 143/300\n",
      "10/10 [==============================] - 0s - loss: 0.1527\n",
      "Epoch 144/300\n",
      "10/10 [==============================] - 0s - loss: 0.1525\n",
      "Epoch 145/300\n",
      "10/10 [==============================] - 0s - loss: 0.1522\n",
      "Epoch 146/300\n",
      "10/10 [==============================] - 0s - loss: 0.1520\n",
      "Epoch 147/300\n",
      "10/10 [==============================] - 0s - loss: 0.1517\n",
      "Epoch 148/300\n",
      "10/10 [==============================] - 0s - loss: 0.1515\n",
      "Epoch 149/300\n",
      "10/10 [==============================] - 0s - loss: 0.1512\n",
      "Epoch 150/300\n",
      "10/10 [==============================] - 0s - loss: 0.1510\n",
      "Epoch 151/300\n",
      "10/10 [==============================] - 0s - loss: 0.1507\n",
      "Epoch 152/300\n",
      "10/10 [==============================] - 0s - loss: 0.1504\n",
      "Epoch 153/300\n",
      "10/10 [==============================] - 0s - loss: 0.1502\n",
      "Epoch 154/300\n",
      "10/10 [==============================] - 0s - loss: 0.1499\n",
      "Epoch 155/300\n",
      "10/10 [==============================] - 0s - loss: 0.1496\n",
      "Epoch 156/300\n",
      "10/10 [==============================] - 0s - loss: 0.1494\n",
      "Epoch 157/300\n",
      "10/10 [==============================] - 0s - loss: 0.1491\n",
      "Epoch 158/300\n",
      "10/10 [==============================] - 0s - loss: 0.1488\n",
      "Epoch 159/300\n",
      "10/10 [==============================] - 0s - loss: 0.1485\n",
      "Epoch 160/300\n",
      "10/10 [==============================] - 0s - loss: 0.1483\n",
      "Epoch 161/300\n",
      "10/10 [==============================] - 0s - loss: 0.1480\n",
      "Epoch 162/300\n",
      "10/10 [==============================] - 0s - loss: 0.1477\n",
      "Epoch 163/300\n",
      "10/10 [==============================] - 0s - loss: 0.1474\n",
      "Epoch 164/300\n",
      "10/10 [==============================] - 0s - loss: 0.1471\n",
      "Epoch 165/300\n",
      "10/10 [==============================] - 0s - loss: 0.1469\n",
      "Epoch 166/300\n",
      "10/10 [==============================] - 0s - loss: 0.1466\n",
      "Epoch 167/300\n",
      "10/10 [==============================] - 0s - loss: 0.1463\n",
      "Epoch 168/300\n",
      "10/10 [==============================] - 0s - loss: 0.1460\n",
      "Epoch 169/300\n",
      "10/10 [==============================] - 0s - loss: 0.1457\n",
      "Epoch 170/300\n",
      "10/10 [==============================] - 0s - loss: 0.1454\n",
      "Epoch 171/300\n",
      "10/10 [==============================] - 0s - loss: 0.1451\n",
      "Epoch 172/300\n",
      "10/10 [==============================] - 0s - loss: 0.1448\n",
      "Epoch 173/300\n",
      "10/10 [==============================] - 0s - loss: 0.1445\n",
      "Epoch 174/300\n",
      "10/10 [==============================] - 0s - loss: 0.1442\n",
      "Epoch 175/300\n",
      "10/10 [==============================] - 0s - loss: 0.1439\n",
      "Epoch 176/300\n",
      "10/10 [==============================] - 0s - loss: 0.1436\n",
      "Epoch 177/300\n",
      "10/10 [==============================] - 0s - loss: 0.1433\n",
      "Epoch 178/300\n",
      "10/10 [==============================] - 0s - loss: 0.1430\n",
      "Epoch 179/300\n",
      "10/10 [==============================] - 0s - loss: 0.1427\n",
      "Epoch 180/300\n",
      "10/10 [==============================] - 0s - loss: 0.1424\n",
      "Epoch 181/300\n",
      "10/10 [==============================] - 0s - loss: 0.1421\n",
      "Epoch 182/300\n",
      "10/10 [==============================] - 0s - loss: 0.1418\n",
      "Epoch 183/300\n",
      "10/10 [==============================] - 0s - loss: 0.1415\n",
      "Epoch 184/300\n",
      "10/10 [==============================] - 0s - loss: 0.1412\n",
      "Epoch 185/300\n",
      "10/10 [==============================] - 0s - loss: 0.1409\n",
      "Epoch 186/300\n",
      "10/10 [==============================] - 0s - loss: 0.1405\n",
      "Epoch 187/300\n",
      "10/10 [==============================] - 0s - loss: 0.1402\n",
      "Epoch 188/300\n",
      "10/10 [==============================] - 0s - loss: 0.1399\n",
      "Epoch 189/300\n",
      "10/10 [==============================] - 0s - loss: 0.1396\n",
      "Epoch 190/300\n",
      "10/10 [==============================] - 0s - loss: 0.1392\n",
      "Epoch 191/300\n",
      "10/10 [==============================] - 0s - loss: 0.1389\n",
      "Epoch 192/300\n",
      "10/10 [==============================] - 0s - loss: 0.1386\n",
      "Epoch 193/300\n",
      "10/10 [==============================] - 0s - loss: 0.1383\n",
      "Epoch 194/300\n",
      "10/10 [==============================] - 0s - loss: 0.1379\n",
      "Epoch 195/300\n",
      "10/10 [==============================] - 0s - loss: 0.1376\n",
      "Epoch 196/300\n",
      "10/10 [==============================] - 0s - loss: 0.1373\n",
      "Epoch 197/300\n",
      "10/10 [==============================] - 0s - loss: 0.1369\n",
      "Epoch 198/300\n",
      "10/10 [==============================] - 0s - loss: 0.1366\n",
      "Epoch 199/300\n",
      "10/10 [==============================] - 0s - loss: 0.1362\n",
      "Epoch 200/300\n",
      "10/10 [==============================] - 0s - loss: 0.1359\n",
      "Epoch 201/300\n",
      "10/10 [==============================] - 0s - loss: 0.1355\n",
      "Epoch 202/300\n",
      "10/10 [==============================] - 0s - loss: 0.1352\n",
      "Epoch 203/300\n",
      "10/10 [==============================] - 0s - loss: 0.1349\n",
      "Epoch 204/300\n",
      "10/10 [==============================] - 0s - loss: 0.1345\n",
      "Epoch 205/300\n",
      "10/10 [==============================] - 0s - loss: 0.1341\n",
      "Epoch 206/300\n",
      "10/10 [==============================] - 0s - loss: 0.1338\n",
      "Epoch 207/300\n",
      "10/10 [==============================] - 0s - loss: 0.1334\n",
      "Epoch 208/300\n",
      "10/10 [==============================] - 0s - loss: 0.1331\n",
      "Epoch 209/300\n",
      "10/10 [==============================] - 0s - loss: 0.1327\n",
      "Epoch 210/300\n",
      "10/10 [==============================] - 0s - loss: 0.1324\n",
      "Epoch 211/300\n",
      "10/10 [==============================] - 0s - loss: 0.1320\n",
      "Epoch 212/300\n",
      "10/10 [==============================] - 0s - loss: 0.1316\n",
      "Epoch 213/300\n",
      "10/10 [==============================] - 0s - loss: 0.1313\n",
      "Epoch 214/300\n",
      "10/10 [==============================] - 0s - loss: 0.1309\n",
      "Epoch 215/300\n",
      "10/10 [==============================] - 0s - loss: 0.1305\n",
      "Epoch 216/300\n",
      "10/10 [==============================] - 0s - loss: 0.1302\n",
      "Epoch 217/300\n",
      "10/10 [==============================] - 0s - loss: 0.1298\n",
      "Epoch 218/300\n",
      "10/10 [==============================] - 0s - loss: 0.1294\n",
      "Epoch 219/300\n",
      "10/10 [==============================] - 0s - loss: 0.1290\n",
      "Epoch 220/300\n",
      "10/10 [==============================] - 0s - loss: 0.1286\n",
      "Epoch 221/300\n",
      "10/10 [==============================] - 0s - loss: 0.1283\n",
      "Epoch 222/300\n",
      "10/10 [==============================] - 0s - loss: 0.1279\n",
      "Epoch 223/300\n",
      "10/10 [==============================] - 0s - loss: 0.1275\n",
      "Epoch 224/300\n",
      "10/10 [==============================] - 0s - loss: 0.1271\n",
      "Epoch 225/300\n",
      "10/10 [==============================] - 0s - loss: 0.1267\n",
      "Epoch 226/300\n",
      "10/10 [==============================] - 0s - loss: 0.1263\n",
      "Epoch 227/300\n",
      "10/10 [==============================] - 0s - loss: 0.1259\n",
      "Epoch 228/300\n",
      "10/10 [==============================] - 0s - loss: 0.1255\n",
      "Epoch 229/300\n",
      "10/10 [==============================] - 0s - loss: 0.1252\n",
      "Epoch 230/300\n",
      "10/10 [==============================] - 0s - loss: 0.1248\n",
      "Epoch 231/300\n",
      "10/10 [==============================] - 0s - loss: 0.1244\n",
      "Epoch 232/300\n",
      "10/10 [==============================] - 0s - loss: 0.1240\n",
      "Epoch 233/300\n",
      "10/10 [==============================] - 0s - loss: 0.1236\n",
      "Epoch 234/300\n",
      "10/10 [==============================] - 0s - loss: 0.1232\n",
      "Epoch 235/300\n",
      "10/10 [==============================] - 0s - loss: 0.1227\n",
      "Epoch 236/300\n",
      "10/10 [==============================] - 0s - loss: 0.1223\n",
      "Epoch 237/300\n",
      "10/10 [==============================] - 0s - loss: 0.1219\n",
      "Epoch 238/300\n",
      "10/10 [==============================] - 0s - loss: 0.1215\n",
      "Epoch 239/300\n",
      "10/10 [==============================] - 0s - loss: 0.1211\n",
      "Epoch 240/300\n",
      "10/10 [==============================] - 0s - loss: 0.1207\n",
      "Epoch 241/300\n",
      "10/10 [==============================] - 0s - loss: 0.1203\n",
      "Epoch 242/300\n",
      "10/10 [==============================] - 0s - loss: 0.1199\n",
      "Epoch 243/300\n",
      "10/10 [==============================] - 0s - loss: 0.1195\n",
      "Epoch 244/300\n",
      "10/10 [==============================] - 0s - loss: 0.1190\n",
      "Epoch 245/300\n",
      "10/10 [==============================] - 0s - loss: 0.1186\n",
      "Epoch 246/300\n",
      "10/10 [==============================] - 0s - loss: 0.1182\n",
      "Epoch 247/300\n",
      "10/10 [==============================] - 0s - loss: 0.1178\n",
      "Epoch 248/300\n",
      "10/10 [==============================] - 0s - loss: 0.1173\n",
      "Epoch 249/300\n",
      "10/10 [==============================] - 0s - loss: 0.1169\n",
      "Epoch 250/300\n",
      "10/10 [==============================] - 0s - loss: 0.1165\n",
      "Epoch 251/300\n",
      "10/10 [==============================] - 0s - loss: 0.1161\n",
      "Epoch 252/300\n",
      "10/10 [==============================] - 0s - loss: 0.1159\n",
      "Epoch 253/300\n",
      "10/10 [==============================] - 0s - loss: 0.1158\n",
      "Epoch 254/300\n",
      "10/10 [==============================] - 0s - loss: 0.1163\n",
      "Epoch 255/300\n",
      "10/10 [==============================] - 0s - loss: 0.1184\n",
      "Epoch 256/300\n",
      "10/10 [==============================] - 0s - loss: 0.1252\n",
      "Epoch 257/300\n",
      "10/10 [==============================] - 0s - loss: 0.1455\n",
      "Epoch 258/300\n",
      "10/10 [==============================] - 0s - loss: 0.2012\n",
      "Epoch 259/300\n",
      "10/10 [==============================] - 0s - loss: 0.3543\n",
      "Epoch 260/300\n",
      "10/10 [==============================] - 0s - loss: 0.6320\n",
      "Epoch 261/300\n",
      "10/10 [==============================] - 0s - loss: 0.9646\n",
      "Epoch 262/300\n",
      "10/10 [==============================] - 0s - loss: 0.5727\n",
      "Epoch 263/300\n",
      "10/10 [==============================] - 0s - loss: 0.2791\n",
      "Epoch 264/300\n",
      "10/10 [==============================] - 0s - loss: 0.1536\n",
      "Epoch 265/300\n",
      "10/10 [==============================] - 0s - loss: 0.1330\n",
      "Epoch 266/300\n",
      "10/10 [==============================] - 0s - loss: 0.1287\n",
      "Epoch 267/300\n",
      "10/10 [==============================] - 0s - loss: 0.1275\n",
      "Epoch 268/300\n",
      "10/10 [==============================] - 0s - loss: 0.1270\n",
      "Epoch 269/300\n",
      "10/10 [==============================] - 0s - loss: 0.1265\n",
      "Epoch 270/300\n",
      "10/10 [==============================] - 0s - loss: 0.1261\n",
      "Epoch 271/300\n",
      "10/10 [==============================] - 0s - loss: 0.1257\n",
      "Epoch 272/300\n",
      "10/10 [==============================] - 0s - loss: 0.1253\n",
      "Epoch 273/300\n",
      "10/10 [==============================] - 0s - loss: 0.1249\n",
      "Epoch 274/300\n",
      "10/10 [==============================] - 0s - loss: 0.1245\n",
      "Epoch 275/300\n",
      "10/10 [==============================] - 0s - loss: 0.1241\n",
      "Epoch 276/300\n",
      "10/10 [==============================] - 0s - loss: 0.1237\n",
      "Epoch 277/300\n",
      "10/10 [==============================] - 0s - loss: 0.1233\n",
      "Epoch 278/300\n",
      "10/10 [==============================] - 0s - loss: 0.1229\n",
      "Epoch 279/300\n",
      "10/10 [==============================] - 0s - loss: 0.1225\n",
      "Epoch 280/300\n",
      "10/10 [==============================] - 0s - loss: 0.1221\n",
      "Epoch 281/300\n",
      "10/10 [==============================] - 0s - loss: 0.1217\n",
      "Epoch 282/300\n",
      "10/10 [==============================] - 0s - loss: 0.1213\n",
      "Epoch 283/300\n",
      "10/10 [==============================] - 0s - loss: 0.1209\n",
      "Epoch 284/300\n",
      "10/10 [==============================] - 0s - loss: 0.1205\n",
      "Epoch 285/300\n",
      "10/10 [==============================] - 0s - loss: 0.1201\n",
      "Epoch 286/300\n",
      "10/10 [==============================] - 0s - loss: 0.1197\n",
      "Epoch 287/300\n",
      "10/10 [==============================] - 0s - loss: 0.1193\n",
      "Epoch 288/300\n",
      "10/10 [==============================] - 0s - loss: 0.1189\n",
      "Epoch 289/300\n",
      "10/10 [==============================] - 0s - loss: 0.1185\n",
      "Epoch 290/300\n",
      "10/10 [==============================] - 0s - loss: 0.1180\n",
      "Epoch 291/300\n",
      "10/10 [==============================] - 0s - loss: 0.1176\n",
      "Epoch 292/300\n",
      "10/10 [==============================] - 0s - loss: 0.1172\n",
      "Epoch 293/300\n",
      "10/10 [==============================] - 0s - loss: 0.1168\n",
      "Epoch 294/300\n",
      "10/10 [==============================] - 0s - loss: 0.1164\n",
      "Epoch 295/300\n",
      "10/10 [==============================] - 0s - loss: 0.1160\n",
      "Epoch 296/300\n",
      "10/10 [==============================] - 0s - loss: 0.1156\n",
      "Epoch 297/300\n",
      "10/10 [==============================] - 0s - loss: 0.1151\n",
      "Epoch 298/300\n",
      "10/10 [==============================] - 0s - loss: 0.1147\n",
      "Epoch 299/300\n",
      "10/10 [==============================] - 0s - loss: 0.1143\n",
      "Epoch 300/300\n",
      "10/10 [==============================] - 0s - loss: 0.1139\n"
     ]
    }
   ],
   "source": [
    "hist = model.fit(x, t, shuffle=False, batch_size=10, nb_epoch=300)"
   ]
  },
  {
   "cell_type": "code",
   "execution_count": 165,
   "metadata": {
    "collapsed": false
   },
   "outputs": [
    {
     "data": {
      "text/plain": [
       "<matplotlib.text.Text at 0x13bad908>"
      ]
     },
     "execution_count": 165,
     "metadata": {},
     "output_type": "execute_result"
    },
    {
     "data": {
      "image/png": "[encoded data removed]",
      "text/plain": [
       "<matplotlib.figure.Figure at 0x1378dfd0>"
      ]
     },
     "metadata": {},
     "output_type": "display_data"
    }
   ],
   "source": [
    "plt.plot(hist.history['loss'])\n",
    "plt.xlabel('Epoch')\n",
    "plt.ylabel('Loss')"
   ]
  },
  {
   "cell_type": "code",
   "execution_count": 158,
   "metadata": {
    "collapsed": true
   },
   "outputs": [],
   "source": [
    "import keras.backend as K\n",
    "def get_activations(model, layer, X_batch):\n",
    "    get_activations = K.function([model.layers[0].input, K.learning_phase()], model.layers[layer].output)\n",
    "    activations = get_activations([X_batch,0])\n",
    "    return activations"
   ]
  },
  {
   "cell_type": "code",
   "execution_count": 159,
   "metadata": {
    "collapsed": false
   },
   "outputs": [
    {
     "data": {
      "text/plain": [
       "<matplotlib.text.Text at 0x130fbac8>"
      ]
     },
     "execution_count": 159,
     "metadata": {},
     "output_type": "execute_result"
    },
    {
     "data": {
      "image/png": "[encoded data removed]",
      "text/plain": [
       "<matplotlib.figure.Figure at 0x12c1fac8>"
      ]
     },
     "metadata": {},
     "output_type": "display_data"
    }
   ],
   "source": [
    "activations_1 = get_activations(model, 0, x.reshape(-1, 1))\n",
    "plt.plot(x, activations_1, 'o')\n",
    "plt.xlabel('x')\n",
    "plt.ylabel('Activation of neurons in hidden layer')"
   ]
  },
  {
   "cell_type": "code",
   "execution_count": 160,
   "metadata": {
    "collapsed": false
   },
   "outputs": [
    {
     "data": {
      "text/plain": [
       "<matplotlib.text.Text at 0x1329c0b8>"
      ]
     },
     "execution_count": 160,
     "metadata": {},
     "output_type": "execute_result"
    },
    {
     "data": {
      "image/png": "[encoded data removed]",
      "text/plain": [
       "<matplotlib.figure.Figure at 0x12f16b70>"
      ]
     },
     "metadata": {},
     "output_type": "display_data"
    }
   ],
   "source": [
    "activations_2 = get_activations(model, 1, x.reshape(-1, 1))\n",
    "plt.plot(x, activations_2, 'o')\n",
    "plt.xlabel('x')\n",
    "plt.ylabel('Activation of neuron in output layer')"
   ]
  },
  {
   "cell_type": "code",
   "execution_count": 161,
   "metadata": {
    "collapsed": false
   },
   "outputs": [
    {
     "data": {
      "text/plain": [
       "<matplotlib.legend.Legend at 0x135a6860>"
      ]
     },
     "execution_count": 161,
     "metadata": {},
     "output_type": "execute_result"
    },
    {
     "data": {
      "image/png": "[encoded data removed]",
      "text/plain": [
       "<matplotlib.figure.Figure at 0x132bc240>"
      ]
     },
     "metadata": {},
     "output_type": "display_data"
    }
   ],
   "source": [
    "_ = np.linspace(0, 1)\n",
    "plt.plot(_, np.sin(2. * np.pi * _), label='data')\n",
    "plt.plot(x, t, 'bo')\n",
    "\n",
    "plt.plot(_, model.predict(_), label='predictions')\n",
    "plt.plot(x, model.predict(x), 'go')\n",
    "\n",
    "plt.xlabel('x')\n",
    "plt.ylabel('t')\n",
    "plt.legend()"
   ]
  },
  {
   "cell_type": "code",
   "execution_count": null,
   "metadata": {
    "collapsed": true
   },
   "outputs": [],
   "source": []
  }
 ],
 "metadata": {
  "kernelspec": {
   "display_name": "Python 2",
   "language": "python",
   "name": "python2"
  },
  "language_info": {
   "codemirror_mode": {
    "name": "ipython",
    "version": 2
   },
   "file_extension": ".py",
   "mimetype": "text/x-python",
   "name": "python",
   "nbconvert_exporter": "python",
   "pygments_lexer": "ipython2",
   "version": "2.7.11"
  }
 },
 "nbformat": 4,
 "nbformat_minor": 0
}
