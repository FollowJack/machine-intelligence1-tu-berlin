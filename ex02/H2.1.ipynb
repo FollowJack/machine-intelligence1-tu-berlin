{
 "cells": [
  {
   "cell_type": "code",
   "execution_count": 1,
   "metadata": {
    "collapsed": true
   },
   "outputs": [],
   "source": [
    "import numpy as np\n",
    "import matplotlib.pyplot as plt\n",
    "import pandas as pd\n",
    "%matplotlib inline"
   ]
  },
  {
   "cell_type": "code",
   "execution_count": 2,
   "metadata": {
    "collapsed": false
   },
   "outputs": [
    {
     "data": {
      "text/html": [
       "<div>\n",
       "<table border=\"1\" class=\"dataframe\">\n",
       "  <thead>\n",
       "    <tr style=\"text-align: right;\">\n",
       "      <th></th>\n",
       "      <th>x.1</th>\n",
       "      <th>x.2</th>\n",
       "      <th>y</th>\n",
       "    </tr>\n",
       "  </thead>\n",
       "  <tbody>\n",
       "    <tr>\n",
       "      <th>0</th>\n",
       "      <td>0.365</td>\n",
       "      <td>0.708</td>\n",
       "      <td>0</td>\n",
       "    </tr>\n",
       "    <tr>\n",
       "      <th>1</th>\n",
       "      <td>0.543</td>\n",
       "      <td>-0.268</td>\n",
       "      <td>0</td>\n",
       "    </tr>\n",
       "    <tr>\n",
       "      <th>2</th>\n",
       "      <td>-0.401</td>\n",
       "      <td>0.643</td>\n",
       "      <td>0</td>\n",
       "    </tr>\n",
       "    <tr>\n",
       "      <th>3</th>\n",
       "      <td>0.866</td>\n",
       "      <td>-0.796</td>\n",
       "      <td>0</td>\n",
       "    </tr>\n",
       "    <tr>\n",
       "      <th>4</th>\n",
       "      <td>-0.386</td>\n",
       "      <td>0.742</td>\n",
       "      <td>0</td>\n",
       "    </tr>\n",
       "    <tr>\n",
       "      <th>5</th>\n",
       "      <td>-0.443</td>\n",
       "      <td>0.615</td>\n",
       "      <td>0</td>\n",
       "    </tr>\n",
       "    <tr>\n",
       "      <th>6</th>\n",
       "      <td>-0.519</td>\n",
       "      <td>0.818</td>\n",
       "      <td>0</td>\n",
       "    </tr>\n",
       "    <tr>\n",
       "      <th>7</th>\n",
       "      <td>0.332</td>\n",
       "      <td>-0.211</td>\n",
       "      <td>0</td>\n",
       "    </tr>\n",
       "    <tr>\n",
       "      <th>8</th>\n",
       "      <td>0.211</td>\n",
       "      <td>-0.237</td>\n",
       "      <td>0</td>\n",
       "    </tr>\n",
       "    <tr>\n",
       "      <th>9</th>\n",
       "      <td>-0.208</td>\n",
       "      <td>-0.656</td>\n",
       "      <td>0</td>\n",
       "    </tr>\n",
       "    <tr>\n",
       "      <th>10</th>\n",
       "      <td>-0.028</td>\n",
       "      <td>0.044</td>\n",
       "      <td>0</td>\n",
       "    </tr>\n",
       "    <tr>\n",
       "      <th>11</th>\n",
       "      <td>-0.271</td>\n",
       "      <td>0.005</td>\n",
       "      <td>0</td>\n",
       "    </tr>\n",
       "    <tr>\n",
       "      <th>12</th>\n",
       "      <td>0.159</td>\n",
       "      <td>-0.739</td>\n",
       "      <td>0</td>\n",
       "    </tr>\n",
       "    <tr>\n",
       "      <th>13</th>\n",
       "      <td>0.162</td>\n",
       "      <td>-0.530</td>\n",
       "      <td>0</td>\n",
       "    </tr>\n",
       "    <tr>\n",
       "      <th>14</th>\n",
       "      <td>-0.518</td>\n",
       "      <td>0.263</td>\n",
       "      <td>0</td>\n",
       "    </tr>\n",
       "    <tr>\n",
       "      <th>15</th>\n",
       "      <td>0.745</td>\n",
       "      <td>-0.355</td>\n",
       "      <td>0</td>\n",
       "    </tr>\n",
       "    <tr>\n",
       "      <th>16</th>\n",
       "      <td>-1.151</td>\n",
       "      <td>1.133</td>\n",
       "      <td>0</td>\n",
       "    </tr>\n",
       "    <tr>\n",
       "      <th>17</th>\n",
       "      <td>0.686</td>\n",
       "      <td>-0.664</td>\n",
       "      <td>0</td>\n",
       "    </tr>\n",
       "    <tr>\n",
       "      <th>18</th>\n",
       "      <td>-1.221</td>\n",
       "      <td>0.962</td>\n",
       "      <td>0</td>\n",
       "    </tr>\n",
       "    <tr>\n",
       "      <th>19</th>\n",
       "      <td>0.128</td>\n",
       "      <td>-0.063</td>\n",
       "      <td>0</td>\n",
       "    </tr>\n",
       "    <tr>\n",
       "      <th>20</th>\n",
       "      <td>1.001</td>\n",
       "      <td>-0.956</td>\n",
       "      <td>0</td>\n",
       "    </tr>\n",
       "    <tr>\n",
       "      <th>21</th>\n",
       "      <td>-0.807</td>\n",
       "      <td>1.015</td>\n",
       "      <td>0</td>\n",
       "    </tr>\n",
       "    <tr>\n",
       "      <th>22</th>\n",
       "      <td>-1.335</td>\n",
       "      <td>0.651</td>\n",
       "      <td>0</td>\n",
       "    </tr>\n",
       "    <tr>\n",
       "      <th>23</th>\n",
       "      <td>0.669</td>\n",
       "      <td>-0.020</td>\n",
       "      <td>0</td>\n",
       "    </tr>\n",
       "    <tr>\n",
       "      <th>24</th>\n",
       "      <td>-0.207</td>\n",
       "      <td>0.081</td>\n",
       "      <td>0</td>\n",
       "    </tr>\n",
       "    <tr>\n",
       "      <th>25</th>\n",
       "      <td>0.728</td>\n",
       "      <td>-0.720</td>\n",
       "      <td>0</td>\n",
       "    </tr>\n",
       "    <tr>\n",
       "      <th>26</th>\n",
       "      <td>0.822</td>\n",
       "      <td>-0.753</td>\n",
       "      <td>0</td>\n",
       "    </tr>\n",
       "    <tr>\n",
       "      <th>27</th>\n",
       "      <td>-0.111</td>\n",
       "      <td>-0.414</td>\n",
       "      <td>0</td>\n",
       "    </tr>\n",
       "    <tr>\n",
       "      <th>28</th>\n",
       "      <td>0.083</td>\n",
       "      <td>0.373</td>\n",
       "      <td>0</td>\n",
       "    </tr>\n",
       "    <tr>\n",
       "      <th>29</th>\n",
       "      <td>0.211</td>\n",
       "      <td>-0.617</td>\n",
       "      <td>0</td>\n",
       "    </tr>\n",
       "    <tr>\n",
       "      <th>...</th>\n",
       "      <td>...</td>\n",
       "      <td>...</td>\n",
       "      <td>...</td>\n",
       "    </tr>\n",
       "    <tr>\n",
       "      <th>170</th>\n",
       "      <td>0.127</td>\n",
       "      <td>0.689</td>\n",
       "      <td>1</td>\n",
       "    </tr>\n",
       "    <tr>\n",
       "      <th>171</th>\n",
       "      <td>0.120</td>\n",
       "      <td>0.577</td>\n",
       "      <td>1</td>\n",
       "    </tr>\n",
       "    <tr>\n",
       "      <th>172</th>\n",
       "      <td>0.577</td>\n",
       "      <td>0.272</td>\n",
       "      <td>1</td>\n",
       "    </tr>\n",
       "    <tr>\n",
       "      <th>173</th>\n",
       "      <td>0.114</td>\n",
       "      <td>0.388</td>\n",
       "      <td>1</td>\n",
       "    </tr>\n",
       "    <tr>\n",
       "      <th>174</th>\n",
       "      <td>0.716</td>\n",
       "      <td>0.398</td>\n",
       "      <td>1</td>\n",
       "    </tr>\n",
       "    <tr>\n",
       "      <th>175</th>\n",
       "      <td>0.461</td>\n",
       "      <td>0.968</td>\n",
       "      <td>1</td>\n",
       "    </tr>\n",
       "    <tr>\n",
       "      <th>176</th>\n",
       "      <td>-0.189</td>\n",
       "      <td>1.483</td>\n",
       "      <td>1</td>\n",
       "    </tr>\n",
       "    <tr>\n",
       "      <th>177</th>\n",
       "      <td>-0.106</td>\n",
       "      <td>0.921</td>\n",
       "      <td>1</td>\n",
       "    </tr>\n",
       "    <tr>\n",
       "      <th>178</th>\n",
       "      <td>0.074</td>\n",
       "      <td>0.267</td>\n",
       "      <td>1</td>\n",
       "    </tr>\n",
       "    <tr>\n",
       "      <th>179</th>\n",
       "      <td>0.515</td>\n",
       "      <td>0.592</td>\n",
       "      <td>1</td>\n",
       "    </tr>\n",
       "    <tr>\n",
       "      <th>180</th>\n",
       "      <td>0.117</td>\n",
       "      <td>0.869</td>\n",
       "      <td>1</td>\n",
       "    </tr>\n",
       "    <tr>\n",
       "      <th>181</th>\n",
       "      <td>0.488</td>\n",
       "      <td>-0.039</td>\n",
       "      <td>1</td>\n",
       "    </tr>\n",
       "    <tr>\n",
       "      <th>182</th>\n",
       "      <td>0.165</td>\n",
       "      <td>1.338</td>\n",
       "      <td>1</td>\n",
       "    </tr>\n",
       "    <tr>\n",
       "      <th>183</th>\n",
       "      <td>-0.259</td>\n",
       "      <td>1.247</td>\n",
       "      <td>1</td>\n",
       "    </tr>\n",
       "    <tr>\n",
       "      <th>184</th>\n",
       "      <td>0.305</td>\n",
       "      <td>1.107</td>\n",
       "      <td>1</td>\n",
       "    </tr>\n",
       "    <tr>\n",
       "      <th>185</th>\n",
       "      <td>2.019</td>\n",
       "      <td>-0.947</td>\n",
       "      <td>1</td>\n",
       "    </tr>\n",
       "    <tr>\n",
       "      <th>186</th>\n",
       "      <td>0.870</td>\n",
       "      <td>-0.399</td>\n",
       "      <td>1</td>\n",
       "    </tr>\n",
       "    <tr>\n",
       "      <th>187</th>\n",
       "      <td>0.831</td>\n",
       "      <td>-0.006</td>\n",
       "      <td>1</td>\n",
       "    </tr>\n",
       "    <tr>\n",
       "      <th>188</th>\n",
       "      <td>-0.289</td>\n",
       "      <td>1.468</td>\n",
       "      <td>1</td>\n",
       "    </tr>\n",
       "    <tr>\n",
       "      <th>189</th>\n",
       "      <td>0.772</td>\n",
       "      <td>0.996</td>\n",
       "      <td>1</td>\n",
       "    </tr>\n",
       "    <tr>\n",
       "      <th>190</th>\n",
       "      <td>0.578</td>\n",
       "      <td>0.298</td>\n",
       "      <td>1</td>\n",
       "    </tr>\n",
       "    <tr>\n",
       "      <th>191</th>\n",
       "      <td>0.189</td>\n",
       "      <td>0.744</td>\n",
       "      <td>1</td>\n",
       "    </tr>\n",
       "    <tr>\n",
       "      <th>192</th>\n",
       "      <td>0.415</td>\n",
       "      <td>0.847</td>\n",
       "      <td>1</td>\n",
       "    </tr>\n",
       "    <tr>\n",
       "      <th>193</th>\n",
       "      <td>0.246</td>\n",
       "      <td>0.988</td>\n",
       "      <td>1</td>\n",
       "    </tr>\n",
       "    <tr>\n",
       "      <th>194</th>\n",
       "      <td>0.232</td>\n",
       "      <td>0.825</td>\n",
       "      <td>1</td>\n",
       "    </tr>\n",
       "    <tr>\n",
       "      <th>195</th>\n",
       "      <td>0.784</td>\n",
       "      <td>0.616</td>\n",
       "      <td>1</td>\n",
       "    </tr>\n",
       "    <tr>\n",
       "      <th>196</th>\n",
       "      <td>0.411</td>\n",
       "      <td>-0.005</td>\n",
       "      <td>1</td>\n",
       "    </tr>\n",
       "    <tr>\n",
       "      <th>197</th>\n",
       "      <td>0.930</td>\n",
       "      <td>0.225</td>\n",
       "      <td>1</td>\n",
       "    </tr>\n",
       "    <tr>\n",
       "      <th>198</th>\n",
       "      <td>1.288</td>\n",
       "      <td>0.184</td>\n",
       "      <td>1</td>\n",
       "    </tr>\n",
       "    <tr>\n",
       "      <th>199</th>\n",
       "      <td>0.110</td>\n",
       "      <td>1.114</td>\n",
       "      <td>1</td>\n",
       "    </tr>\n",
       "  </tbody>\n",
       "</table>\n",
       "<p>200 rows × 3 columns</p>\n",
       "</div>"
      ],
      "text/plain": [
       "       x.1    x.2  y\n",
       "0    0.365  0.708  0\n",
       "1    0.543 -0.268  0\n",
       "2   -0.401  0.643  0\n",
       "3    0.866 -0.796  0\n",
       "4   -0.386  0.742  0\n",
       "5   -0.443  0.615  0\n",
       "6   -0.519  0.818  0\n",
       "7    0.332 -0.211  0\n",
       "8    0.211 -0.237  0\n",
       "9   -0.208 -0.656  0\n",
       "10  -0.028  0.044  0\n",
       "11  -0.271  0.005  0\n",
       "12   0.159 -0.739  0\n",
       "13   0.162 -0.530  0\n",
       "14  -0.518  0.263  0\n",
       "15   0.745 -0.355  0\n",
       "16  -1.151  1.133  0\n",
       "17   0.686 -0.664  0\n",
       "18  -1.221  0.962  0\n",
       "19   0.128 -0.063  0\n",
       "20   1.001 -0.956  0\n",
       "21  -0.807  1.015  0\n",
       "22  -1.335  0.651  0\n",
       "23   0.669 -0.020  0\n",
       "24  -0.207  0.081  0\n",
       "25   0.728 -0.720  0\n",
       "26   0.822 -0.753  0\n",
       "27  -0.111 -0.414  0\n",
       "28   0.083  0.373  0\n",
       "29   0.211 -0.617  0\n",
       "..     ...    ... ..\n",
       "170  0.127  0.689  1\n",
       "171  0.120  0.577  1\n",
       "172  0.577  0.272  1\n",
       "173  0.114  0.388  1\n",
       "174  0.716  0.398  1\n",
       "175  0.461  0.968  1\n",
       "176 -0.189  1.483  1\n",
       "177 -0.106  0.921  1\n",
       "178  0.074  0.267  1\n",
       "179  0.515  0.592  1\n",
       "180  0.117  0.869  1\n",
       "181  0.488 -0.039  1\n",
       "182  0.165  1.338  1\n",
       "183 -0.259  1.247  1\n",
       "184  0.305  1.107  1\n",
       "185  2.019 -0.947  1\n",
       "186  0.870 -0.399  1\n",
       "187  0.831 -0.006  1\n",
       "188 -0.289  1.468  1\n",
       "189  0.772  0.996  1\n",
       "190  0.578  0.298  1\n",
       "191  0.189  0.744  1\n",
       "192  0.415  0.847  1\n",
       "193  0.246  0.988  1\n",
       "194  0.232  0.825  1\n",
       "195  0.784  0.616  1\n",
       "196  0.411 -0.005  1\n",
       "197  0.930  0.225  1\n",
       "198  1.288  0.184  1\n",
       "199  0.110  1.114  1\n",
       "\n",
       "[200 rows x 3 columns]"
      ]
     },
     "execution_count": 2,
     "metadata": {},
     "output_type": "execute_result"
    }
   ],
   "source": [
    "df = pd.read_csv('applesOranges.csv')\n",
    "df"
   ]
  },
  {
   "cell_type": "code",
   "execution_count": 6,
   "metadata": {
    "collapsed": false
   },
   "outputs": [
    {
     "data": {
      "text/plain": [
       "<matplotlib.legend.Legend at 0xb101e48>"
      ]
     },
     "execution_count": 6,
     "metadata": {},
     "output_type": "execute_result"
    },
    {
     "data": {
      "image/png": "[encoded data removed]",
      "text/plain": [
       "<matplotlib.figure.Figure at 0x970a5f8>"
      ]
     },
     "metadata": {},
     "output_type": "display_data"
    }
   ],
   "source": [
    "apples = df[df['y'] == 0]\n",
    "oranges = df[df['y'] == 1]\n",
    "plt.scatter(apples['x.1'], apples['x.2'], c='green', label='Apples (0)')\n",
    "plt.scatter(oranges['x.1'], oranges['x.2'], c='orange', label='Oranges (1)')\n",
    "plt.xlabel('x.1')\n",
    "plt.ylabel('x.2')\n",
    "plt.legend()"
   ]
  },
  {
   "cell_type": "code",
   "execution_count": 9,
   "metadata": {
    "collapsed": false
   },
   "outputs": [
    {
     "name": "stdout",
     "output_type": "stream",
     "text": [
      "[   0.   10.   20.   30.   40.   50.   60.   70.   80.   90.  100.  110.\n",
      "  120.  130.  140.  150.  160.  170.  180.]\n"
     ]
    }
   ],
   "source": [
    "alphas = np.linspace(0, 180, 19)\n",
    "print alphas\n",
    "acc_alphas = np.zeros(19)\n",
    "for i, alpha in enumerate(alphas):\n",
    "    w = np.array([np.cos(np.radians(alpha)), np.sin(np.radians(alpha))])\n",
    "    #print w\n",
    "    y = np.sign(np.dot(w,  df[['x.1', 'x.2']].T))\n",
    "    y[y < 0] = 0  # set -1 to 0 in the output, so we have the correct labels\n",
    "    acc_alphas[i] = np.mean(y == df['y'])"
   ]
  },
  {
   "cell_type": "code",
   "execution_count": 10,
   "metadata": {
    "collapsed": false
   },
   "outputs": [
    {
     "data": {
      "text/plain": [
       "(0, 1)"
      ]
     },
     "execution_count": 10,
     "metadata": {},
     "output_type": "execute_result"
    },
    {
     "data": {
      "image/png": "[encoded data removed]",
      "text/plain": [
       "<matplotlib.figure.Figure at 0x9e74b70>"
      ]
     },
     "metadata": {},
     "output_type": "display_data"
    }
   ],
   "source": [
    "plt.plot(alphas, acc_alphas, 'o')\n",
    "plt.xlabel(r'$\\alpha$')\n",
    "plt.ylabel('Accuracy')\n",
    "plt.ylim(0, 1)"
   ]
  },
  {
   "cell_type": "markdown",
   "metadata": {},
   "source": [
    "Best accuracy for alpha = 20 degrees"
   ]
  },
  {
   "cell_type": "code",
   "execution_count": 11,
   "metadata": {
    "collapsed": false
   },
   "outputs": [
    {
     "name": "stdout",
     "output_type": "stream",
     "text": [
      "[-3.  -2.7 -2.4 -2.1 -1.8 -1.5 -1.2 -0.9 -0.6 -0.3  0.   0.3  0.6  0.9  1.2\n",
      "  1.5  1.8  2.1  2.4  2.7  3. ]\n"
     ]
    }
   ],
   "source": [
    "w = np.array([np.cos(np.radians(20.)), np.sin(np.radians(20.))])\n",
    "biases = np.linspace(-3., 3., 21)\n",
    "print biases\n",
    "acc_biases = np.zeros(21)\n",
    "for i, bias in enumerate(biases):\n",
    "    y = np.sign(np.dot(w,  df[['x.1', 'x.2']].T) - bias)\n",
    "    y[y < 0] = 0  # set -1 to 0 in the output, so we have the correct labels\n",
    "    #print y\n",
    "    acc_biases[i] = np.mean(y == df['y'])"
   ]
  },
  {
   "cell_type": "code",
   "execution_count": 12,
   "metadata": {
    "collapsed": false
   },
   "outputs": [
    {
     "data": {
      "text/plain": [
       "(0, 1)"
      ]
     },
     "execution_count": 12,
     "metadata": {},
     "output_type": "execute_result"
    },
    {
     "data": {
      "image/png": "[encoded data removed]",
      "text/plain": [
       "<matplotlib.figure.Figure at 0xb464128>"
      ]
     },
     "metadata": {},
     "output_type": "display_data"
    }
   ],
   "source": [
    "plt.plot(biases, acc_biases, 'o')\n",
    "plt.xlabel(r'$\\theta$')\n",
    "plt.ylabel('Accuracy')\n",
    "plt.ylim(0, 1)"
   ]
  },
  {
   "cell_type": "markdown",
   "metadata": {},
   "source": [
    "Best accuracy for theta = 0.3 (if alpha = 20 degrees)"
   ]
  },
  {
   "cell_type": "code",
   "execution_count": 13,
   "metadata": {
    "collapsed": true
   },
   "outputs": [],
   "source": [
    "w = np.array([np.cos(np.radians(20.)), np.sin(np.radians(20.))])\n",
    "bias = 0.3\n",
    "y = np.sign(np.dot(w,  df[['x.1', 'x.2']].T) - bias)\n",
    "y[y < 0] = 0  # set -1 to 0 in the output, so we have the correct labels"
   ]
  },
  {
   "cell_type": "code",
   "execution_count": 15,
   "metadata": {
    "collapsed": false
   },
   "outputs": [
    {
     "data": {
      "text/plain": [
       "<matplotlib.legend.Legend at 0xb4e47b8>"
      ]
     },
     "execution_count": 15,
     "metadata": {},
     "output_type": "execute_result"
    },
    {
     "data": {
      "image/png": "[encoded data removed]",
      "text/plain": [
       "<matplotlib.figure.Figure at 0xb101d30>"
      ]
     },
     "metadata": {},
     "output_type": "display_data"
    }
   ],
   "source": [
    "apples = df[y == 0]\n",
    "oranges = df[y == 1]  # choose class based on prediction\n",
    "plt.scatter(apples['x.1'], apples['x.2'], c='green', label='Apples (0)')\n",
    "plt.scatter(oranges['x.1'], oranges['x.2'], c='orange', label='Oranges (1)')\n",
    "plt.arrow(0, 0, w[0], w[1], head_width=0.2, color='r')\n",
    "plt.xlabel('x.1')\n",
    "plt.ylabel('x.2')\n",
    "plt.legend()"
   ]
  },
  {
   "cell_type": "markdown",
   "metadata": {
    "collapsed": false
   },
   "source": [
    "The separating plane is approximately orthogonal to $w$ and shifted slightly in its direction.\n",
    "This makes sense, as any samples $x$ on the separating plane should have $w^T x - \\theta = 0$. \n",
    "If they are orthogonal to $w$, $w^T x = 0$. The bias $\\theta = 0.3$ introduces the slight offset. "
   ]
  },
  {
   "cell_type": "code",
   "execution_count": 20,
   "metadata": {
    "collapsed": false
   },
   "outputs": [
    {
     "name": "stdout",
     "output_type": "stream",
     "text": [
      "[   0.     1.8    3.6    5.4    7.2    9.    10.8   12.6   14.4   16.2\n",
      "   18.    19.8   21.6   23.4   25.2   27.    28.8   30.6   32.4   34.2\n",
      "   36.    37.8   39.6   41.4   43.2   45.    46.8   48.6   50.4   52.2\n",
      "   54.    55.8   57.6   59.4   61.2   63.    64.8   66.6   68.4   70.2\n",
      "   72.    73.8   75.6   77.4   79.2   81.    82.8   84.6   86.4   88.2\n",
      "   90.    91.8   93.6   95.4   97.2   99.   100.8  102.6  104.4  106.2\n",
      "  108.   109.8  111.6  113.4  115.2  117.   118.8  120.6  122.4  124.2\n",
      "  126.   127.8  129.6  131.4  133.2  135.   136.8  138.6  140.4  142.2\n",
      "  144.   145.8  147.6  149.4  151.2  153.   154.8  156.6  158.4  160.2\n",
      "  162.   163.8  165.6  167.4  169.2  171.   172.8  174.6  176.4  178.2\n",
      "  180. ] [-5.  -4.9 -4.8 -4.7 -4.6 -4.5 -4.4 -4.3 -4.2 -4.1 -4.  -3.9 -3.8 -3.7 -3.6\n",
      " -3.5 -3.4 -3.3 -3.2 -3.1 -3.  -2.9 -2.8 -2.7 -2.6 -2.5 -2.4 -2.3 -2.2 -2.1\n",
      " -2.  -1.9 -1.8 -1.7 -1.6 -1.5 -1.4 -1.3 -1.2 -1.1 -1.  -0.9 -0.8 -0.7 -0.6\n",
      " -0.5 -0.4 -0.3 -0.2 -0.1  0.   0.1  0.2  0.3  0.4  0.5  0.6  0.7  0.8  0.9\n",
      "  1.   1.1  1.2  1.3  1.4  1.5  1.6  1.7  1.8  1.9  2.   2.1  2.2  2.3  2.4\n",
      "  2.5  2.6  2.7  2.8  2.9  3.   3.1  3.2  3.3  3.4  3.5  3.6  3.7  3.8  3.9\n",
      "  4.   4.1  4.2  4.3  4.4  4.5  4.6  4.7  4.8  4.9  5. ]\n",
      "Best alpha: 45.0\n",
      "Best bias: 0.3\n"
     ]
    }
   ],
   "source": [
    "alphas = np.linspace(0, 180, 101)\n",
    "biases = np.linspace(-5., 5., 101)\n",
    "print alphas, biases\n",
    "\n",
    "acc_both = np.zeros((101, 101))\n",
    "best_acc = 0\n",
    "best_alpha = None\n",
    "best_bias = None\n",
    "\n",
    "for i, alpha in enumerate(alphas):\n",
    "    w = np.array([np.cos(np.radians(alpha)), np.sin(np.radians(alpha))])\n",
    "    for j, bias in enumerate(biases):\n",
    "        y = np.sign(np.dot(w,  df[['x.1', 'x.2']].T) - bias)\n",
    "        y[y < 0] = 0  # set -1 to 0 in the output, so we have the correct labels\n",
    "        acc_both[i, j] = np.mean(y == df['y'])\n",
    "        if acc_both[i, j] > best_acc:\n",
    "            best_acc = acc_both[i, j]\n",
    "            best_alpha = alpha\n",
    "            best_bias = bias\n",
    "\n",
    "print 'Best alpha:', best_alpha\n",
    "print 'Best bias:', best_bias"
   ]
  },
  {
   "cell_type": "code",
   "execution_count": 21,
   "metadata": {
    "collapsed": false
   },
   "outputs": [
    {
     "data": {
      "text/plain": [
       "<matplotlib.colorbar.Colorbar at 0xce6d320>"
      ]
     },
     "execution_count": 21,
     "metadata": {},
     "output_type": "execute_result"
    },
    {
     "data": {
      "image/png": "[encoded data removed]",
      "text/plain": [
       "<matplotlib.figure.Figure at 0x9eebcf8>"
      ]
     },
     "metadata": {},
     "output_type": "display_data"
    }
   ],
   "source": [
    "plt.pcolor(biases, alphas, acc_both, vmax=1)\n",
    "plt.xlabel(r'$\\theta$')\n",
    "plt.ylabel(r'$\\alpha$')\n",
    "plt.colorbar(label='Accuracy')"
   ]
  },
  {
   "cell_type": "markdown",
   "metadata": {},
   "source": [
    "This method (grid search) can in principle be applied to any kind of  optimization, however it is computationally very intense if there are lots of parameters (e.g. tuning the parameters of a neural network with grid search would be a very bad idea)."
   ]
  },
  {
   "cell_type": "code",
   "execution_count": null,
   "metadata": {
    "collapsed": true
   },
   "outputs": [],
   "source": []
  }
 ],
 "metadata": {
  "kernelspec": {
   "display_name": "Python 2",
   "language": "python",
   "name": "python2"
  },
  "language_info": {
   "codemirror_mode": {
    "name": "ipython",
    "version": 2
   },
   "file_extension": ".py",
   "mimetype": "text/x-python",
   "name": "python",
   "nbconvert_exporter": "python",
   "pygments_lexer": "ipython2",
   "version": "2.7.11"
  }
 },
 "nbformat": 4,
 "nbformat_minor": 0
}
